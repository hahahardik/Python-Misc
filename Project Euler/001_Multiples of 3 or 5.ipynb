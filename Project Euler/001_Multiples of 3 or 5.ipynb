{
 "cells": [
  {
   "cell_type": "code",
   "execution_count": null,
   "id": "f6525a75",
   "metadata": {},
   "outputs": [],
   "source": [
    "#Initializing sum = 0\n",
    "num_sum = 0\n",
    "\n",
    "for num in range(1, 1000):\n",
    "    #using \"or\" omitts the excess sum by multiples of 15\n",
    "    if num%3 == 0 or num%5 == 0:\n",
    "        num_sum += num\n",
    "        \n",
    "print(num_sum)"
   ]
  }
 ],
 "metadata": {
  "kernelspec": {
   "display_name": "Python 3",
   "language": "python",
   "name": "python3"
  },
  "language_info": {
   "codemirror_mode": {
    "name": "ipython",
    "version": 3
   },
   "file_extension": ".py",
   "mimetype": "text/x-python",
   "name": "python",
   "nbconvert_exporter": "python",
   "pygments_lexer": "ipython3",
   "version": "3.8.8"
  }
 },
 "nbformat": 4,
 "nbformat_minor": 5
}
