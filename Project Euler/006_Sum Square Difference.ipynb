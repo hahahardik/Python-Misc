{
 "cells": [
  {
   "cell_type": "markdown",
   "id": "0653076e",
   "metadata": {},
   "source": [
    "# 006 - Sum Square Difference\n",
    "\n",
    "The sum of the squares of the first ten natural numbers is, \n",
    "\n",
    "\\begin{equation}\n",
    "1^2 + 2^2 + 3^2 + 4^2 + \\ldots + 10^2 = 385 \n",
    "\\end{equation}\n",
    "\n",
    "The square of the sum of the first ten natural numbers is,\n",
    "\n",
    "\\begin{equation}\n",
    "(1 + 2 + 3 + 4 + \\ldots + 10)^2 = 3025 \n",
    "\\end{equation}\n",
    "\n",
    "Hence the difference between the sum of the squares of the first ten natural numbers and the square of the sum is $3025 - 385 = 2640$\n",
    "\n",
    "Find the difference between the sum of the squares of the first one hundred natural numbers and the square of the sum."
   ]
  },
  {
   "cell_type": "code",
   "execution_count": 1,
   "id": "961bd3e3",
   "metadata": {},
   "outputs": [],
   "source": [
    "#Enter the number of digits upto which you want to calculate the difference\n",
    "def sum_sq_diff(num):\n",
    "    \n",
    "    # sum of squares\n",
    "    sum_sq = 0\n",
    "    for i in range(1, num+1):\n",
    "        sum_sq += i*i\n",
    "    \n",
    "    # square of sum\n",
    "    sum_j = 0 # Sum of all elements\n",
    "    for j in range(1, num+1):\n",
    "        sum_j += j\n",
    "        \n",
    "    sq_sum = sum_j*sum_j\n",
    "    \n",
    "    # Difference\n",
    "    return sq_sum - sum_sq"
   ]
  },
  {
   "cell_type": "code",
   "execution_count": 2,
   "id": "aa62cd1c",
   "metadata": {},
   "outputs": [
    {
     "data": {
      "text/plain": [
       "2640"
      ]
     },
     "execution_count": 2,
     "metadata": {},
     "output_type": "execute_result"
    }
   ],
   "source": [
    "sum_sq_diff(10)"
   ]
  },
  {
   "cell_type": "code",
   "execution_count": 3,
   "id": "15be05e5",
   "metadata": {},
   "outputs": [
    {
     "data": {
      "text/plain": [
       "25164150"
      ]
     },
     "execution_count": 3,
     "metadata": {},
     "output_type": "execute_result"
    }
   ],
   "source": [
    "sum_sq_diff(100)"
   ]
  },
  {
   "cell_type": "code",
   "execution_count": null,
   "id": "74a34a27",
   "metadata": {},
   "outputs": [],
   "source": []
  }
 ],
 "metadata": {
  "kernelspec": {
   "display_name": "Python 3",
   "language": "python",
   "name": "python3"
  },
  "language_info": {
   "codemirror_mode": {
    "name": "ipython",
    "version": 3
   },
   "file_extension": ".py",
   "mimetype": "text/x-python",
   "name": "python",
   "nbconvert_exporter": "python",
   "pygments_lexer": "ipython3",
   "version": "3.8.8"
  }
 },
 "nbformat": 4,
 "nbformat_minor": 5
}
