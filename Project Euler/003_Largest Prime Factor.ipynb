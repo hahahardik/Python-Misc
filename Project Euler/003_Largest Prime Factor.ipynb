{
 "cells": [
  {
   "cell_type": "markdown",
   "id": "b5e63f24",
   "metadata": {},
   "source": [
    "# 003 - Largest Prime Factor\n",
    "\n",
    "## Method 1\n",
    "\n",
    "This method directly returns the largest prime factor."
   ]
  },
  {
   "cell_type": "code",
   "execution_count": 1,
   "id": "179fc70a",
   "metadata": {},
   "outputs": [],
   "source": [
    "def largest_prime_factor(num):\n",
    "    \n",
    "    #Smallest prime factor\n",
    "    i = 2\n",
    "    \n",
    "    for j in range(0,num):\n",
    "        # We are dividing num by i in further steps and also the prime factor of a number should not be greater than the number itself.\n",
    "        if i >= num:\n",
    "            break\n",
    "        # Check if the num is divisible by i properly\n",
    "        elif num % i == 0:\n",
    "            num /= i\n",
    "        # Else increment the divisor by 1\n",
    "        else:\n",
    "            i += 1\n",
    "    \n",
    "    return int(num)"
   ]
  },
  {
   "cell_type": "code",
   "execution_count": 2,
   "id": "65b5e0d6",
   "metadata": {},
   "outputs": [
    {
     "data": {
      "text/plain": [
       "29"
      ]
     },
     "execution_count": 2,
     "metadata": {},
     "output_type": "execute_result"
    }
   ],
   "source": [
    "largest_prime_factor(13195)"
   ]
  },
  {
   "cell_type": "markdown",
   "id": "d355f98a",
   "metadata": {},
   "source": [
    "## Method 2\n",
    "\n",
    "This method gives the list of prime factors and largest of that list can be returned easily."
   ]
  },
  {
   "cell_type": "code",
   "execution_count": 3,
   "id": "d326e1d1",
   "metadata": {},
   "outputs": [],
   "source": [
    "def factors(num):\n",
    "    \n",
    "    factors = []\n",
    "    \n",
    "    #Smallest prime factor\n",
    "    i = 2\n",
    "    \n",
    "    for j in range(0,num):\n",
    "        # Check if the num is divisible by i properly\n",
    "        if num % i == 0:\n",
    "            num /= i\n",
    "            factors.append(i)\n",
    "        # Else increment the divisor by 1\n",
    "        else:\n",
    "            i += 1\n",
    "    \n",
    "    return factors"
   ]
  },
  {
   "cell_type": "code",
   "execution_count": 4,
   "id": "7fddf6cd",
   "metadata": {},
   "outputs": [],
   "source": [
    "prime_fac = factors(13195)"
   ]
  },
  {
   "cell_type": "code",
   "execution_count": 5,
   "id": "a4d88049",
   "metadata": {},
   "outputs": [
    {
     "name": "stdout",
     "output_type": "stream",
     "text": [
      "[5, 7, 13, 29]\n"
     ]
    }
   ],
   "source": [
    "print(prime_fac)"
   ]
  },
  {
   "cell_type": "code",
   "execution_count": 6,
   "id": "235ac703",
   "metadata": {},
   "outputs": [
    {
     "data": {
      "text/plain": [
       "29"
      ]
     },
     "execution_count": 6,
     "metadata": {},
     "output_type": "execute_result"
    }
   ],
   "source": [
    "max(prime_fac)"
   ]
  },
  {
   "cell_type": "code",
   "execution_count": null,
   "id": "174c0af8",
   "metadata": {},
   "outputs": [],
   "source": []
  }
 ],
 "metadata": {
  "kernelspec": {
   "display_name": "Python 3",
   "language": "python",
   "name": "python3"
  },
  "language_info": {
   "codemirror_mode": {
    "name": "ipython",
    "version": 3
   },
   "file_extension": ".py",
   "mimetype": "text/x-python",
   "name": "python",
   "nbconvert_exporter": "python",
   "pygments_lexer": "ipython3",
   "version": "3.8.8"
  }
 },
 "nbformat": 4,
 "nbformat_minor": 5
}
