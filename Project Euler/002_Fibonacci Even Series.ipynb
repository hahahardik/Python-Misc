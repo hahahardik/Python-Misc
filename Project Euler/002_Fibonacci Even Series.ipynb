{
 "cells": [
  {
   "cell_type": "code",
   "execution_count": null,
   "id": "50d2746e",
   "metadata": {},
   "outputs": [],
   "source": [
    "#empty list to store even-valued fibb. nos.\n",
    "fibb_even = []\n",
    "\n",
    "#list of all fibb. nos\n",
    "fibb = [1, 2]\n",
    "\n",
    "#fibb series limit(here) = 4000000\n",
    "while fibb[-1] < 4000000:\n",
    "    fibb_new = fibb[-1] + fibb[-2]\n",
    "    fibb.append(fibb_new)\n",
    "\n",
    "for num in fibb:\n",
    "    if num%2 == 0:\n",
    "        fibb_even.append(num)\n",
    "\n",
    "print(sum(fibb_even))"
   ]
  }
 ],
 "metadata": {
  "kernelspec": {
   "display_name": "Python 3",
   "language": "python",
   "name": "python3"
  },
  "language_info": {
   "codemirror_mode": {
    "name": "ipython",
    "version": 3
   },
   "file_extension": ".py",
   "mimetype": "text/x-python",
   "name": "python",
   "nbconvert_exporter": "python",
   "pygments_lexer": "ipython3",
   "version": "3.8.8"
  }
 },
 "nbformat": 4,
 "nbformat_minor": 5
}
