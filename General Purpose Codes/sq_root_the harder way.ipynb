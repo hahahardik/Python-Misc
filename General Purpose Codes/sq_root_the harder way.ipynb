{
 "cells": [
  {
   "cell_type": "markdown",
   "id": "4409e722",
   "metadata": {},
   "source": [
    "1. Data is stored in 'square_root.txt' in pairs.\n",
    "2. 1st no.: Square root to be calculated\n",
    "3. 2nd no.: No. of steps to be taken\n",
    "4. take r = 1 initially\n",
    "5. and the reassign r = (r + x/r) / 2, the number of steps given"
   ]
  },
  {
   "cell_type": "code",
   "execution_count": 1,
   "id": "670df9a9",
   "metadata": {},
   "outputs": [
    {
     "name": "stdout",
     "output_type": "stream",
     "text": [
      "['60', '7', '23557', '5', '1809', '1', '9777', '2', '51', '12', '89', '12', '42', '9', '574', '2', '99', '8', '4087', '10', '4397', '11', '369', '3']\n"
     ]
    }
   ],
   "source": [
    "with open('square_root.txt') as f:\n",
    "    c = f.read().split()\n",
    "print(c)"
   ]
  },
  {
   "cell_type": "code",
   "execution_count": 2,
   "id": "de50d75d",
   "metadata": {},
   "outputs": [
    {
     "name": "stdout",
     "output_type": "stream",
     "text": [
      "[7.745966692414891, 746.781865620921, 905.0, 2445.4998977295973, 7.14142842854285, 9.433981132056605, 6.48074069840786, 144.74826086956523, 9.9498743710662, 63.9296488337, 66.30987860040162, 48.72196772132021]\n"
     ]
    }
   ],
   "source": [
    "sq_root = []\n",
    "\n",
    "for i in range(0, len(c), 2):\n",
    "    r = 1\n",
    "    \n",
    "    for j in range(0, int(c[i+1])):\n",
    "        r = (r + (int(c[i])/r)) / 2\n",
    "        \n",
    "    sq_root.append(r)\n",
    "    \n",
    "print(sq_root)"
   ]
  },
  {
   "cell_type": "code",
   "execution_count": null,
   "id": "3212eeb0",
   "metadata": {},
   "outputs": [],
   "source": []
  }
 ],
 "metadata": {
  "kernelspec": {
   "display_name": "Python 3",
   "language": "python",
   "name": "python3"
  },
  "language_info": {
   "codemirror_mode": {
    "name": "ipython",
    "version": 3
   },
   "file_extension": ".py",
   "mimetype": "text/x-python",
   "name": "python",
   "nbconvert_exporter": "python",
   "pygments_lexer": "ipython3",
   "version": "3.8.8"
  }
 },
 "nbformat": 4,
 "nbformat_minor": 5
}
