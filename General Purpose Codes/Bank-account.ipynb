{
 "cells": [
  {
   "cell_type": "code",
   "execution_count": 1,
   "id": "c18b7ad9",
   "metadata": {},
   "outputs": [],
   "source": [
    "class Account():\n",
    "    \n",
    "    def __init__(self, owner, balance):\n",
    "        \n",
    "        self.owner = owner # String\n",
    "        self.balance = balance # interger/float\n",
    "        \n",
    "    def deposit(self, deposit):\n",
    "        \n",
    "        self.balance += deposit\n",
    "        print(f'${deposit} deposited. \\nCurrent Balance: {self.balance}')\n",
    "        \n",
    "    def withdraw(self,withdraw):\n",
    "        \n",
    "        if withdraw <= self.balance:\n",
    "            self.balance -= withdraw\n",
    "            print(f'${withdraw} withdrawed. \\nCurrent Balance: {self.balance}')\n",
    "        else:\n",
    "            print(f'Not enough balance! \\nCurrent Balance: {self.balance}')\n",
    "        \n",
    "    def __str__(self):\n",
    "        return f'Account Owner : {self.owner}\\nAccount Balance : {self.balance}'"
   ]
  },
  {
   "cell_type": "code",
   "execution_count": 2,
   "id": "d73929ce",
   "metadata": {},
   "outputs": [],
   "source": [
    "accnt1 = Account('hardik',69)"
   ]
  },
  {
   "cell_type": "code",
   "execution_count": 3,
   "id": "0a09873c",
   "metadata": {},
   "outputs": [
    {
     "data": {
      "text/plain": [
       "69"
      ]
     },
     "execution_count": 3,
     "metadata": {},
     "output_type": "execute_result"
    }
   ],
   "source": [
    "accnt1.balance"
   ]
  },
  {
   "cell_type": "code",
   "execution_count": 4,
   "id": "5a233170",
   "metadata": {},
   "outputs": [
    {
     "data": {
      "text/plain": [
       "'hardik'"
      ]
     },
     "execution_count": 4,
     "metadata": {},
     "output_type": "execute_result"
    }
   ],
   "source": [
    "accnt1.owner"
   ]
  },
  {
   "cell_type": "code",
   "execution_count": 5,
   "id": "0dafabd5",
   "metadata": {},
   "outputs": [
    {
     "name": "stdout",
     "output_type": "stream",
     "text": [
      "Account Owner : hardik\n",
      "Account Balance : 69\n"
     ]
    }
   ],
   "source": [
    "print(accnt1)"
   ]
  },
  {
   "cell_type": "code",
   "execution_count": 6,
   "id": "d76bacb0",
   "metadata": {},
   "outputs": [
    {
     "name": "stdout",
     "output_type": "stream",
     "text": [
      "$69 deposited. \n",
      "Current Balance: 138\n"
     ]
    }
   ],
   "source": [
    "accnt1.deposit(69)"
   ]
  },
  {
   "cell_type": "code",
   "execution_count": 7,
   "id": "901a51a4",
   "metadata": {},
   "outputs": [
    {
     "name": "stdout",
     "output_type": "stream",
     "text": [
      "$9 withdrawed. \n",
      "Current Balance: 129\n"
     ]
    }
   ],
   "source": [
    "accnt1.withdraw(9)"
   ]
  },
  {
   "cell_type": "code",
   "execution_count": 8,
   "id": "0db45355",
   "metadata": {},
   "outputs": [
    {
     "name": "stdout",
     "output_type": "stream",
     "text": [
      "Account Owner : hardik\n",
      "Account Balance : 129\n"
     ]
    }
   ],
   "source": [
    "print(accnt1)"
   ]
  },
  {
   "cell_type": "code",
   "execution_count": 9,
   "id": "1e8f56a3",
   "metadata": {},
   "outputs": [
    {
     "name": "stdout",
     "output_type": "stream",
     "text": [
      "Not enough balance! \n",
      "Current Balance: 129\n"
     ]
    }
   ],
   "source": [
    "accnt1.withdraw(130)"
   ]
  },
  {
   "cell_type": "code",
   "execution_count": null,
   "id": "737901af",
   "metadata": {},
   "outputs": [],
   "source": []
  }
 ],
 "metadata": {
  "kernelspec": {
   "display_name": "Python 3",
   "language": "python",
   "name": "python3"
  },
  "language_info": {
   "codemirror_mode": {
    "name": "ipython",
    "version": 3
   },
   "file_extension": ".py",
   "mimetype": "text/x-python",
   "name": "python",
   "nbconvert_exporter": "python",
   "pygments_lexer": "ipython3",
   "version": "3.8.8"
  }
 },
 "nbformat": 4,
 "nbformat_minor": 5
}
