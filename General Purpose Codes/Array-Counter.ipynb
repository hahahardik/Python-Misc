{
 "cells": [
  {
   "cell_type": "markdown",
   "id": "fb648b1d",
   "metadata": {},
   "source": [
    "# Array Counter\n",
    "\n",
    "This is a different than regular counters. Here for a given list of numbers (refer: array_counter.txt), we have to keep a count for each number as the pointer progresses unlike the easier method where we went throught he array number of times counting each element independently."
   ]
  },
  {
   "cell_type": "code",
   "execution_count": 1,
   "id": "8594a003",
   "metadata": {},
   "outputs": [],
   "source": [
    "def counters(*args):\n",
    "    \n",
    "    # Empty dictionary to stor the number as key and the number of time it occurs as value.\n",
    "    # The value is incremented by one whenever it is encounterd by same key.\n",
    "    d = {} \n",
    "    \n",
    "    # List to access the values withing the input parameter\n",
    "    # Args take values as tuples\n",
    "    l = list(args)\n",
    "    \n",
    "    # All the values as stored in the first element of the list.    \n",
    "    for i in range(0, len(l[0])):\n",
    "        \n",
    "        # If that element of the list already exists as a key in the dict. increment it by one\n",
    "        # Else create a new key for it and it will be incremented in further iteration of the loop\n",
    "        \n",
    "        if l[0][i] in d.keys():\n",
    "            d[l[0][i]] += 1\n",
    "        else:\n",
    "            d[l[0][i]] = 1\n",
    "            \n",
    "    return d"
   ]
  },
  {
   "cell_type": "code",
   "execution_count": 4,
   "id": "c5080b39",
   "metadata": {},
   "outputs": [
    {
     "name": "stdout",
     "output_type": "stream",
     "text": [
      "['1', '15', '15', '6', '2', '15', '4', '3', '10', '9', '2', '8', '6', '1', '15', '6', '8', '11', '4', '14', '12', '8', '5', '15', '5', '7', '14', '15', '14', '6', '4', '9', '15', '15', '10', '3', '6', '12', '13', '6', '9', '9', '1', '13', '8', '11', '13', '1', '7', '2', '6', '1', '14', '2', '8', '2', '12', '14', '6', '10', '7', '4', '8', '15', '2', '4', '4', '7', '8', '3', '7', '10', '6', '15', '10', '15', '2', '6', '15', '3', '4', '14', '15', '13', '15', '5', '8', '13', '2', '10', '8', '6', '7', '7', '7', '12', '12', '7', '11', '3', '13', '7', '2', '1', '6', '1', '14', '11', '3', '4', '9', '9', '1', '11', '11', '13', '14', '2', '9', '12', '10', '7', '14', '13', '15', '13', '1', '3', '13', '4', '13', '10', '3', '7', '4', '7', '14', '11', '1', '8', '1', '1', '10', '6', '4', '6', '11', '8', '6', '2', '4', '1', '3', '1', '1', '5', '8', '5', '13', '13', '8', '8', '6', '6', '2', '10', '9', '6', '3', '1', '12', '9', '14', '9', '10', '13', '9', '5', '3', '1', '2', '13', '9', '13', '8', '15', '11', '13', '14', '9', '3', '4', '9', '8', '3', '7', '8', '8', '10', '13', '9', '12', '10', '14', '4', '1', '13', '6', '15', '12', '9', '11', '6', '7', '6', '4', '7', '9', '3', '3', '13', '11', '13', '11', '5', '14', '5', '11', '11', '7', '1', '15', '5', '4', '9', '8', '1', '8', '12', '15', '5', '5', '3', '11', '12', '7', '8', '12', '8', '10', '10', '15', '13', '2', '15', '11', '10', '11', '10', '15', '2', '7', '7', '7', '1', '3', '4', '1', '2', '8', '4', '6', '12', '6', '6', '13', '12', '5', '13', '11', '15', '1', '2', '14', '7', '3', '8', '10', '12', '6', '15', '5', '3', '12', '5', '5', '13', '6', '5', '1', '2', '3', '11', '10', '14', '5', '2', '2', '14', '11', '11', '10', '2', '8', '2', '14', '12', '11', '5', '4', '8', '4']\n"
     ]
    },
    {
     "data": {
      "text/plain": [
       "list"
      ]
     },
     "execution_count": 4,
     "metadata": {},
     "output_type": "execute_result"
    }
   ],
   "source": [
    "# Data stored in array_counters.txt\n",
    "with open('array_counters.txt') as f:\n",
    "    c = f.read().split()\n",
    "    \n",
    "print(c)\n",
    "type(c)"
   ]
  },
  {
   "cell_type": "markdown",
   "id": "c8b72734",
   "metadata": {},
   "source": [
    "If only c = f.read() was used, it would have resulted in a string of all the numbers combined."
   ]
  },
  {
   "cell_type": "code",
   "execution_count": 5,
   "id": "9d82054d",
   "metadata": {},
   "outputs": [
    {
     "name": "stdout",
     "output_type": "stream",
     "text": [
      "{'1': 24, '15': 24, '6': 26, '2': 22, '4': 20, '3': 20, '10': 20, '9': 18, '8': 26, '11': 22, '14': 18, '12': 17, '5': 18, '7': 22, '13': 25}\n"
     ]
    }
   ],
   "source": [
    "z = counters(c)\n",
    "print(z)"
   ]
  },
  {
   "cell_type": "markdown",
   "id": "b062bc4b",
   "metadata": {},
   "source": [
    "The above result tells us that '1' occured 24 times, '15' occured 24 times and so on...\n",
    "\n",
    "Note that the values compared were strings not integers, it is possible to convert them into integers, but it makes the code longer and the step itself is unnecessary."
   ]
  },
  {
   "cell_type": "code",
   "execution_count": null,
   "id": "f0774c70",
   "metadata": {},
   "outputs": [],
   "source": []
  }
 ],
 "metadata": {
  "kernelspec": {
   "display_name": "Python 3",
   "language": "python",
   "name": "python3"
  },
  "language_info": {
   "codemirror_mode": {
    "name": "ipython",
    "version": 3
   },
   "file_extension": ".py",
   "mimetype": "text/x-python",
   "name": "python",
   "nbconvert_exporter": "python",
   "pygments_lexer": "ipython3",
   "version": "3.8.8"
  }
 },
 "nbformat": 4,
 "nbformat_minor": 5
}
