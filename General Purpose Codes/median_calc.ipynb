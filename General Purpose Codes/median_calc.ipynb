{
 "cells": [
  {
   "cell_type": "markdown",
   "id": "c8157738",
   "metadata": {},
   "source": [
    "# Median Calculator\n",
    "\n",
    "\n",
    "For array of numbers stored in a text file. (Can be easily modified for list of nums)"
   ]
  },
  {
   "cell_type": "code",
   "execution_count": 1,
   "id": "51a9d5e6",
   "metadata": {},
   "outputs": [
    {
     "name": "stdout",
     "output_type": "stream",
     "text": [
      "['34', '25', '26', '29', '56', '71', '510', '581', '786', '1049', '646', '1120', '908', '10', '899', '96', '106', '107', '440', '79', '89', '22', '1057', '1013', '67', '253', '64', '961', '987', '963', '444', '383', '28', '1038', '944', '1031', '102', '59', '1', '622', '1253', '614', '5', '94', '154', '174', '83', '79', '134', '836', '76', '9', '15', '587', '193', '225', '219', '520', '434', '384', '735', '349', '343', '670', '750', '78', '25', '20', '465', '924', '427', '930', '58', '926', '5', '210', '201', '209', '948', '4', '1', '278', '290', '281', '878', '1016', '1009', '408', '1375', '1343']\n",
      "\n",
      "\n",
      "[34, 25, 26, 29, 56, 71, 510, 581, 786, 1049, 646, 1120, 908, 10, 899, 96, 106, 107, 440, 79, 89, 22, 1057, 1013, 67, 253, 64, 961, 987, 963, 444, 383, 28, 1038, 944, 1031, 102, 59, 1, 622, 1253, 614, 5, 94, 154, 174, 83, 79, 134, 836, 76, 9, 15, 587, 193, 225, 219, 520, 434, 384, 735, 349, 343, 670, 750, 78, 25, 20, 465, 924, 427, 930, 58, 926, 5, 210, 201, 209, 948, 4, 1, 278, 290, 281, 878, 1016, 1009, 408, 1375, 1343]\n"
     ]
    }
   ],
   "source": [
    "with open('median.txt') as f:\n",
    "    c = f.read().split( )\n",
    "    \n",
    "    # Converting strings to integers\n",
    "    nums = [int(i) for i in c]\n",
    "\n",
    "print(c)\n",
    "print('\\n')\n",
    "print(nums)"
   ]
  },
  {
   "cell_type": "code",
   "execution_count": 2,
   "id": "48128eb9",
   "metadata": {},
   "outputs": [
    {
     "name": "stdout",
     "output_type": "stream",
     "text": [
      "[1, 1, 4, 5, 5, 9, 10, 15, 20, 22, 25, 25, 26, 28, 29, 34, 56, 58, 59, 64, 67, 71, 76, 78, 79, 79, 83, 89, 94, 96, 102, 106, 107, 134, 154, 174, 193, 201, 209, 210, 219, 225, 253, 278, 281, 290, 343, 349, 383, 384, 408, 427, 434, 440, 444, 465, 510, 520, 581, 587, 614, 622, 646, 670, 735, 750, 786, 836, 878, 899, 908, 924, 926, 930, 944, 948, 961, 963, 987, 1009, 1013, 1016, 1031, 1038, 1049, 1057, 1120, 1253, 1343, 1375]\n"
     ]
    }
   ],
   "source": [
    "# Sorting them : lowest to highest\n",
    "sort = sorted(nums)\n",
    "print(sort)"
   ]
  },
  {
   "cell_type": "code",
   "execution_count": 3,
   "id": "ef8562b4",
   "metadata": {},
   "outputs": [
    {
     "name": "stdout",
     "output_type": "stream",
     "text": [
      "285.5\n"
     ]
    }
   ],
   "source": [
    "pos = int(len(sort) / 2)\n",
    "\n",
    "#If length of sorted array is even, median is the mean of middle two digits\n",
    "if len(sort)%2 == 0:\n",
    "    median = (sort[pos] + sort[pos-1]) / 2\n",
    "#If length of sorted array is odd, median is middle digit.\n",
    "else:\n",
    "    median = sort[pos]\n",
    "    \n",
    "print(median)"
   ]
  },
  {
   "cell_type": "code",
   "execution_count": null,
   "id": "f7c8b1d8",
   "metadata": {},
   "outputs": [],
   "source": []
  }
 ],
 "metadata": {
  "kernelspec": {
   "display_name": "Python 3",
   "language": "python",
   "name": "python3"
  },
  "language_info": {
   "codemirror_mode": {
    "name": "ipython",
    "version": 3
   },
   "file_extension": ".py",
   "mimetype": "text/x-python",
   "name": "python",
   "nbconvert_exporter": "python",
   "pygments_lexer": "ipython3",
   "version": "3.8.8"
  }
 },
 "nbformat": 4,
 "nbformat_minor": 5
}
