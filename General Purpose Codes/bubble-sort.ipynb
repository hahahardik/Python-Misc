{
 "cells": [
  {
   "cell_type": "markdown",
   "id": "2d5ce481",
   "metadata": {},
   "source": [
    "# Bubble Sort\n",
    "\n",
    "1. Generally Bubble sort is not used for larger datasets as it iterates many-many times and is space-time consuming.\n",
    "2. But it is necessary as an logic-building exercise."
   ]
  },
  {
   "cell_type": "code",
   "execution_count": 2,
   "id": "de375e0e",
   "metadata": {},
   "outputs": [],
   "source": [
    "# Sorting using Bubble Sort Algo\n",
    "# nums here denote list of numbers\n",
    "def bubble_sort(nums):\n",
    "    \n",
    "    passes = 1 # To look for number of times it passes through the a loop\n",
    "    swaps = 0 # To look for number of times it swaps an element in the loop\n",
    "    \n",
    "    # Comparing with the sorted array\n",
    "    while nums != sorted(nums):\n",
    "        for i in range(0,len(nums)-1):\n",
    "            if nums[i] <= nums[i+1]:\n",
    "                continue\n",
    "            else:\n",
    "                \n",
    "                (nums[i],nums[i+1]) = (nums[i+1],nums[i])\n",
    "                swaps += 1\n",
    "                \n",
    "                #Alternative swapping code\n",
    "                #t = nums[i]\n",
    "                #nums[i] = nums[i+1]\n",
    "                #nums[i+1] = t\n",
    "            \n",
    "            #To print each step during sorting\n",
    "            print(nums)\n",
    "            \n",
    "        #increment pass by 1\n",
    "        passes += 1\n",
    "    \n",
    "    return passes, swaps"
   ]
  },
  {
   "cell_type": "code",
   "execution_count": 3,
   "id": "e4e950ef",
   "metadata": {},
   "outputs": [
    {
     "name": "stdout",
     "output_type": "stream",
     "text": [
      "[1, 3, 4, 1, 5, 9, 2, 6]\n",
      "[1, 3, 1, 4, 5, 9, 2, 6]\n",
      "[1, 3, 1, 4, 5, 2, 9, 6]\n",
      "[1, 3, 1, 4, 5, 2, 6, 9]\n",
      "[1, 1, 3, 4, 5, 2, 6, 9]\n",
      "[1, 1, 3, 4, 2, 5, 6, 9]\n",
      "[1, 1, 3, 2, 4, 5, 6, 9]\n",
      "[1, 1, 2, 3, 4, 5, 6, 9]\n"
     ]
    },
    {
     "data": {
      "text/plain": [
       "(5, 8)"
      ]
     },
     "execution_count": 3,
     "metadata": {},
     "output_type": "execute_result"
    }
   ],
   "source": [
    "nums = [3, 1, 4, 1, 5, 9, 2, 6]\n",
    "bubble_sort(nums)"
   ]
  },
  {
   "cell_type": "markdown",
   "id": "3c8c3e4f",
   "metadata": {},
   "source": [
    "For this particular list, the algo passed 5 times and swapped 8 elements"
   ]
  },
  {
   "cell_type": "code",
   "execution_count": null,
   "id": "ab3cc9ec",
   "metadata": {},
   "outputs": [],
   "source": []
  }
 ],
 "metadata": {
  "kernelspec": {
   "display_name": "Python 3",
   "language": "python",
   "name": "python3"
  },
  "language_info": {
   "codemirror_mode": {
    "name": "ipython",
    "version": 3
   },
   "file_extension": ".py",
   "mimetype": "text/x-python",
   "name": "python",
   "nbconvert_exporter": "python",
   "pygments_lexer": "ipython3",
   "version": "3.8.8"
  }
 },
 "nbformat": 4,
 "nbformat_minor": 5
}
