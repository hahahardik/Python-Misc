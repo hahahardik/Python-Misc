{
 "cells": [
  {
   "cell_type": "markdown",
   "id": "431baba2",
   "metadata": {},
   "source": [
    "# Parity Control\n",
    "\n",
    "All letters are transmitted in usual ASCII code, one byte per symbol. Each byte consists of 8 bits, but the highest bit is not used for English language - it is normally always 0. <br>\n",
    "\n",
    "Let us set this bit to either 0 or 1 in order that sum of bits in the whole byte is always even (2, 4, 6 or 8). That is how some letters are encoded:<br>\n",
    "\n",
    "|Symbol| Ascii-code |    Binary   |Num-of-bits  |  Encoded-binary  | Encoded-dec |\n",
    "|:-----|:----------:|:-----------:|:-----------:|:----------------:|------------:|\n",
    "| 'A'  | 65         |   01000001  |       2     |       01000001   |        65   |\n",
    "|'B'   | 66         |  01000010   |      2      |      01000010    |       66    |\n",
    "|'C'   | 67         |  01000011   |      3      |      11000011    |      195    |\n",
    "| '.'  | 46         |   00101110  |       4     |       00101110   |        46   |\n",
    "| ' '  | 32         |  00100000   |      1      |      10100000    |      160    |\n",
    " \n",
    "It is supposed that communication line could not change more than one bit in each of the transmitted bytes. So the bytes which have odd amount of bits are considered corrupted.<br>\n",
    "\n",
    "We are given the message in this protected encoding. Our task is to check each letter and remove those which are corrupted. Others should be converted to normal ASCII and printed as characters.<br>"
   ]
  },
  {
   "cell_type": "code",
   "execution_count": 1,
   "id": "5c80309c",
   "metadata": {},
   "outputs": [],
   "source": [
    "# Sample list of encoded-decimals\n",
    "l = [65, 238, 236, 225, 46]"
   ]
  },
  {
   "cell_type": "code",
   "execution_count": 3,
   "id": "eb10b50e",
   "metadata": {},
   "outputs": [
    {
     "name": "stdout",
     "output_type": "stream",
     "text": [
      "['01000001', '11101110', '11101100', '11100001', '00101110']\n"
     ]
    }
   ],
   "source": [
    "b = []    # To store the encoded-binary values\n",
    "for i in l:\n",
    "    b.append(f'{i:08b}')\n",
    "    \n",
    "print(b)"
   ]
  },
  {
   "cell_type": "code",
   "execution_count": 4,
   "id": "af4962f8",
   "metadata": {},
   "outputs": [
    {
     "name": "stdout",
     "output_type": "stream",
     "text": [
      "['01000001', '11101110', '11100001', '00101110']\n"
     ]
    }
   ],
   "source": [
    "d = []    # To store non-corrupted values\n",
    "for i in b:\n",
    "    if i.count('1') % 2 == 0:\n",
    "        d.append(i)\n",
    "    else:\n",
    "        pass\n",
    "        \n",
    "print(d)"
   ]
  },
  {
   "cell_type": "code",
   "execution_count": 5,
   "id": "ce5045d2",
   "metadata": {},
   "outputs": [
    {
     "name": "stdout",
     "output_type": "stream",
     "text": [
      "[65, 110, 97, 46]\n"
     ]
    }
   ],
   "source": [
    "f=[]    # To store the corrected values\n",
    "for i in d:\n",
    "    if i[0] == '1':\n",
    "        i = '0' + i[1:]\n",
    "    else:\n",
    "        pass\n",
    "\n",
    "    f.append(int(i,2))    # converts binary to decimal\n",
    "    \n",
    "print(f)"
   ]
  },
  {
   "cell_type": "code",
   "execution_count": 6,
   "id": "02dd8d72",
   "metadata": {},
   "outputs": [
    {
     "name": "stdout",
     "output_type": "stream",
     "text": [
      "Ana.\n"
     ]
    }
   ],
   "source": [
    "string = ''    # Empty string to store the decoded message\n",
    "for i in f:\n",
    "    string += chr(i)\n",
    "\n",
    "print(string)"
   ]
  },
  {
   "cell_type": "markdown",
   "id": "c6e15bc9",
   "metadata": {},
   "source": [
    "## Final Code"
   ]
  },
  {
   "cell_type": "code",
   "execution_count": 7,
   "id": "271d0d68",
   "metadata": {},
   "outputs": [],
   "source": [
    "def parity_control(l):\n",
    "    \n",
    "    '''Returns decoded message\n",
    "    l is a list of coded letters'''\n",
    "    \n",
    "    b = []    # To store binary values\n",
    "    for i in l:\n",
    "        b.append(f'{i:08b}')\n",
    "        \n",
    "    d = []    # To store non-corrupted values\n",
    "    for i in b:\n",
    "        if i.count('1') % 2 == 0:\n",
    "            d.append(i)\n",
    "        else:\n",
    "            pass\n",
    "        \n",
    "    f=[]    # To store the corrected values\n",
    "    for i in d:\n",
    "        if i[0] == '1':\n",
    "            i = '0' + i[1:]\n",
    "        else:\n",
    "            pass\n",
    "\n",
    "        f.append(int(i,2))\n",
    "        \n",
    "    string = ''    # Empty string to store the decoded message\n",
    "    for i in f:\n",
    "        string += chr(i)\n",
    "\n",
    "    return string"
   ]
  },
  {
   "cell_type": "code",
   "execution_count": 8,
   "id": "8be09fd7",
   "metadata": {},
   "outputs": [
    {
     "name": "stdout",
     "output_type": "stream",
     "text": [
      "Ana.\n"
     ]
    }
   ],
   "source": [
    "l = [65, 238, 236, 225, 46]\n",
    "print(parity_control(l))"
   ]
  },
  {
   "cell_type": "code",
   "execution_count": null,
   "id": "c99c9992",
   "metadata": {},
   "outputs": [],
   "source": []
  }
 ],
 "metadata": {
  "kernelspec": {
   "display_name": "Python 3",
   "language": "python",
   "name": "python3"
  },
  "language_info": {
   "codemirror_mode": {
    "name": "ipython",
    "version": 3
   },
   "file_extension": ".py",
   "mimetype": "text/x-python",
   "name": "python",
   "nbconvert_exporter": "python",
   "pygments_lexer": "ipython3",
   "version": "3.8.8"
  }
 },
 "nbformat": 4,
 "nbformat_minor": 5
}
