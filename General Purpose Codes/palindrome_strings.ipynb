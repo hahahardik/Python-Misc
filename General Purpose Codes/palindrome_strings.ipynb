{
 "cells": [
  {
   "cell_type": "markdown",
   "id": "00400806",
   "metadata": {},
   "source": [
    "## Palindrome Strings\n",
    "\n",
    "Check if the given line is palindrome or not.\n",
    "Refer : palindorme_strings.txt"
   ]
  },
  {
   "cell_type": "code",
   "execution_count": 1,
   "id": "99d53481",
   "metadata": {},
   "outputs": [
    {
     "name": "stdout",
     "output_type": "stream",
     "text": [
      "['Taa Wbzc-Vxwx, Eg-wge-Xwx, V, czbw Aa, T\\n', 'Thf-Oieah-oo, Ioooioohaei o f, ht\\n', 'Elvimatazp qmyjepjd-iidjp, Ejymqpz-atamivle\\n', 'Oolijugafavsxi-Dz, ebcecbe-zdixsvaf-A, Gujiloo\\n', 'Z-Odgmnhbs cxwjorebwcyyyilooliyyycwberojwxcsbhnmgdoz\\n', 'A, aetju Iat, T-Ai, Uyteaa\\n', 'F-Sepqdaey zu, kqa-Uxeorc,oroexuaqkuzye, A Dqpe, Sf\\n', 'Es, yy viyyiiek, Ti, uuuuitke, Iiyy, ityy, se\\n', 'Thy-Ajqlztpkdluj Ieduyakhhka Y-xdeijuldkptzlqjay Ht\\n', 'Ienasnucqaqji hmkuaotoyswgwsyot, Oau, Kmhijqaqcunsanei\\n', 'Aahwauxmscyee u, P, omopueeycsm, Xuawhaa\\n', 'Eddy oazyhro-iy-a A sz Zs, Aay-Iorhy-za, oydde\\n', 'Am pjsjehynlzdvyiuul Yvdzl-Nyh ejsjpma\\n', 'Oheq-dlki-Cftaa Tf, cikldqeho\\n', 'Tukyuqi Zietq Uqoqn-qteiziquykut\\n', 'Oeeav-Zng If, i,iFignzvae-e O']\n"
     ]
    },
    {
     "data": {
      "text/plain": [
       "list"
      ]
     },
     "execution_count": 1,
     "metadata": {},
     "output_type": "execute_result"
    }
   ],
   "source": [
    "with open('palindrome_strings.txt') as f:\n",
    "    c = f.readlines()\n",
    "    \n",
    "print(c)\n",
    "type(c)"
   ]
  },
  {
   "cell_type": "markdown",
   "id": "aa768f3e",
   "metadata": {},
   "source": [
    "C stores the lines in form of lists with newline element (\\n)"
   ]
  },
  {
   "cell_type": "code",
   "execution_count": 2,
   "id": "d61d62f9",
   "metadata": {},
   "outputs": [
    {
     "name": "stdout",
     "output_type": "stream",
     "text": [
      "taawbzcvxwxegwgexwxvczbwaat\n",
      "taawbzcvxwxegwgexwxvczbwaat\n",
      "\n",
      "thfoieahooioooioohaeiofht\n",
      "thfoieahooioooioohaeiofht\n",
      "\n",
      "elvimatazpqmyjepjdiidjpejymqpzatamivle\n",
      "elvimatazpqmyjepjdiidjpejymqpzatamivle\n",
      "\n",
      "oolijugafavsxidzebcecbezdixsvafagujiloo\n",
      "oolijugafavsxidzebcecbezdixsvafagujiloo\n",
      "\n",
      "zodgmnhbscxwjorebwcyyyilooliyyycwberojwxcsbhnmgdoz\n",
      "zodgmnhbscxwjorebwcyyyilooliyyycwberojwxcsbhnmgdoz\n",
      "\n",
      "aaetjuiattaiuyteaa\n",
      "aaetyuiattaiujteaa\n",
      "\n",
      "fsepqdaeyzukqauxeorcoroexuaqkuzyeadqpesf\n",
      "fsepqdaeyzukqauxeorocroexuaqkuzyeadqpesf\n",
      "\n",
      "esyyviyyiiektiuuuuitkeiiyyityyse\n",
      "esyytiyyiiektiuuuuitkeiiyyivyyse\n",
      "\n",
      "thyajqlztpkdlujieduyakhhkayxdeijuldkptzlqjayht\n",
      "thyajqlztpkdlujiedxyakhhkayudeijuldkptzlqjayht\n",
      "\n",
      "ienasnucqaqjihmkuaotoyswgwsyotoaukmhijqaqcunsanei\n",
      "ienasnucqaqjihmkuaotoyswgwsyotoaukmhijqaqcunsanei\n",
      "\n",
      "aahwauxmscyeeupomopueeycsmxuawhaa\n",
      "aahwauxmscyeeupomopueeycsmxuawhaa\n",
      "\n",
      "eddyoazyhroiyaaszzsaayiorhyzaoydde\n",
      "eddyoazyhroiyaaszzsaayiorhyzaoydde\n",
      "\n",
      "ampjsjehynlzdvyiuulyvdzlnyhejsjpma\n",
      "ampjsjehynlzdvyluuiyvdzlnyhejsjpma\n",
      "\n",
      "oheqdlkicftaatfcikldqeho\n",
      "oheqdlkicftaatfcikldqeho\n",
      "\n",
      "tukyuqizietquqoqnqteiziquykut\n",
      "tukyuqizietqnqoquqteiziquykut\n",
      "\n",
      "oeeavzngifiifignzvaeeo\n",
      "oeeavzngifiifignzvaeeo\n",
      "\n"
     ]
    }
   ],
   "source": [
    "#List of all punctuation marks including space (We have strip it as well)\n",
    "punc = '''`~!@#$%^&*()-=_+'\"[]{}\\/|;:,.<> ?'''\n",
    "\n",
    "#Empty list to store response if the string is palindrome or not\n",
    "# 'Y' = yes and 'N' = no\n",
    "d = []\n",
    "\n",
    "for line in c:\n",
    "    \n",
    "    #Converting the line to lower case and replacing newline-element (\\n) by nothing\n",
    "    line = line.lower().replace('\\n','')\n",
    "    \n",
    "    #Checking for each letter (and space) and replacing the punctuations with nothing\n",
    "    for letter in line:\n",
    "        if letter in punc:\n",
    "            line = line.replace(letter, '')\n",
    "        else:\n",
    "            continue\n",
    "            \n",
    "    print(line)\n",
    "    print(line[::-1] + '\\n')\n",
    "        \n",
    "    #Checking for reversibility    \n",
    "    if line != line[::-1] :\n",
    "        d.append('N')\n",
    "    else:\n",
    "        d.append('Y')\n"
   ]
  },
  {
   "cell_type": "code",
   "execution_count": 3,
   "id": "9d1bc4e4",
   "metadata": {},
   "outputs": [
    {
     "name": "stdout",
     "output_type": "stream",
     "text": [
      "['Y', 'Y', 'Y', 'Y', 'Y', 'N', 'N', 'N', 'N', 'Y', 'Y', 'Y', 'N', 'Y', 'N', 'Y']\n"
     ]
    }
   ],
   "source": [
    "# Checking Results\n",
    "print(d)"
   ]
  },
  {
   "cell_type": "code",
   "execution_count": null,
   "id": "4d6372b5",
   "metadata": {},
   "outputs": [],
   "source": []
  }
 ],
 "metadata": {
  "kernelspec": {
   "display_name": "Python 3",
   "language": "python",
   "name": "python3"
  },
  "language_info": {
   "codemirror_mode": {
    "name": "ipython",
    "version": 3
   },
   "file_extension": ".py",
   "mimetype": "text/x-python",
   "name": "python",
   "nbconvert_exporter": "python",
   "pygments_lexer": "ipython3",
   "version": "3.8.8"
  }
 },
 "nbformat": 4,
 "nbformat_minor": 5
}
