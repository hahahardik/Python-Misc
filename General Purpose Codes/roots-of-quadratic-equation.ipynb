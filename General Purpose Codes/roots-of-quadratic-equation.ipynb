{
 "cells": [
  {
   "cell_type": "markdown",
   "id": "4820d714",
   "metadata": {},
   "source": [
    "# Roots of Quadratic Equation\n",
    "\n",
    "Consider a quaratic equation of the form, $ax^2 + bx + c = 0$. Where $a, b, c$ are real numbers and $x$ is a variable.<br> <br>\n",
    "**Note** : This code uses `math` module for calculating the square root which can alternatively be done using fractional exponential but sometimes might give an incorrect value."
   ]
  },
  {
   "cell_type": "code",
   "execution_count": 1,
   "id": "dc3f607a",
   "metadata": {},
   "outputs": [],
   "source": [
    "import math \n",
    "  \n",
    "  \n",
    " # function for finding roots\n",
    "def roots(a, b, c): \n",
    "  \n",
    "    # discriminant\n",
    "    d = b**2 - 4*a*c \n",
    "    sqrt_val = math.sqrt(abs(d)) \n",
    "      \n",
    "    # Real and different roots\n",
    "    if d > 0: \n",
    "        root_1 = int((-b + sqrt_val)/(2 * a))\n",
    "        root_2 = int((-b - sqrt_val)/(2 * a))\n",
    "    \n",
    "    # Real and equal roots\n",
    "    elif d == 0: \n",
    "        root_1 = int(-b / (2 * a)) \n",
    "        root_2 = int(-b / (2 * a))\n",
    "      \n",
    "    # Complex roots\n",
    "    else:\n",
    "        real = int(- b / (2 * a))\n",
    "        imag = int(sqrt_val / (2*a))\n",
    "        root_1 = f'{real}+{imag}i'\n",
    "        root_2 = f'{real}-{imag}i'\n",
    "        \n",
    "    return (root_1, root_2)"
   ]
  },
  {
   "cell_type": "code",
   "execution_count": 2,
   "id": "3549bf27",
   "metadata": {},
   "outputs": [
    {
     "data": {
      "text/plain": [
       "(2, -1)"
      ]
     },
     "execution_count": 2,
     "metadata": {},
     "output_type": "execute_result"
    }
   ],
   "source": [
    "roots(3,-3,-6)"
   ]
  },
  {
   "cell_type": "code",
   "execution_count": 3,
   "id": "faef991d",
   "metadata": {},
   "outputs": [
    {
     "data": {
      "text/plain": [
       "('0+1i', '0-1i')"
      ]
     },
     "execution_count": 3,
     "metadata": {},
     "output_type": "execute_result"
    }
   ],
   "source": [
    "roots(1, 0, 1)"
   ]
  },
  {
   "cell_type": "code",
   "execution_count": 4,
   "id": "915e4c68",
   "metadata": {},
   "outputs": [
    {
     "data": {
      "text/plain": [
       "(9, -9)"
      ]
     },
     "execution_count": 4,
     "metadata": {},
     "output_type": "execute_result"
    }
   ],
   "source": [
    "roots(5, 0, -405)"
   ]
  },
  {
   "cell_type": "code",
   "execution_count": null,
   "id": "df88f412",
   "metadata": {},
   "outputs": [],
   "source": []
  }
 ],
 "metadata": {
  "kernelspec": {
   "display_name": "Python 3",
   "language": "python",
   "name": "python3"
  },
  "language_info": {
   "codemirror_mode": {
    "name": "ipython",
    "version": 3
   },
   "file_extension": ".py",
   "mimetype": "text/x-python",
   "name": "python",
   "nbconvert_exporter": "python",
   "pygments_lexer": "ipython3",
   "version": "3.8.8"
  }
 },
 "nbformat": 4,
 "nbformat_minor": 5
}
