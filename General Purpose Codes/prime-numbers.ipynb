{
 "cells": [
  {
   "cell_type": "markdown",
   "id": "8c13b80c",
   "metadata": {},
   "source": [
    "# Prime Numbers\n",
    "\n",
    "This method below returns prime numbers from 2 to num entered. <br>\n",
    "__NOTE__ : This may not be efficient for large numbers."
   ]
  },
  {
   "cell_type": "code",
   "execution_count": 2,
   "id": "53071b07",
   "metadata": {},
   "outputs": [
    {
     "name": "stdout",
     "output_type": "stream",
     "text": [
      "[2, 3, 4, 5, 6, 7, 8, 9, 10, 11, 12, 13, 14, 15, 16, 17, 18, 19, 20, 21, 22, 23, 24, 25, 26, 27, 28, 29, 30, 31, 32, 33, 34, 35, 36, 37, 38, 39, 40, 41, 42, 43, 44, 45, 46, 47, 48, 49, 50]\n"
     ]
    }
   ],
   "source": [
    "# Taking arbitary value of num = 50\n",
    "num = 50\n",
    "nums = [i for i in range(2,num+1)]\n",
    "print(nums)"
   ]
  },
  {
   "cell_type": "code",
   "execution_count": 3,
   "id": "b2550064",
   "metadata": {},
   "outputs": [
    {
     "name": "stdout",
     "output_type": "stream",
     "text": [
      "[4, 6, 8, 10, 12, 14, 16, 18, 20, 22, 24, 26, 28, 30, 32, 34, 36, 38, 40, 42, 44, 46, 48, 50, 6, 9, 12, 15, 18, 21, 24, 27, 30, 33, 36, 39, 42, 45, 48, 8, 12, 16, 20, 24, 28, 32, 36, 40, 44, 48, 10, 15, 20, 25, 30, 35, 40, 45, 50, 12, 18, 24, 30, 36, 42, 48, 14, 21, 28, 35, 42, 49, 16, 24, 32, 40, 48, 18, 27, 36, 45, 20, 30, 40, 50, 22, 33, 44, 24, 36, 48, 26, 39, 28, 42, 30, 45, 32, 48, 34, 36, 38, 40, 42, 44, 46, 48, 50]\n"
     ]
    }
   ],
   "source": [
    "# Empty list to store non-prime numbers\n",
    "not_prime = []\n",
    "\n",
    "for i in range(len(nums)):\n",
    "    for j in range(i+1,len(nums)):\n",
    "        if nums[j] % nums[i] == 0:\n",
    "            not_prime.append(nums[j])\n",
    "        else:\n",
    "            continue\n",
    "# Note that this list of non-primes numbers contains repetative values as they are looped multiple times\n",
    "print(not_prime)"
   ]
  },
  {
   "cell_type": "code",
   "execution_count": 4,
   "id": "444a8786",
   "metadata": {},
   "outputs": [
    {
     "name": "stdout",
     "output_type": "stream",
     "text": [
      "[4, 6, 8, 9, 10, 12, 14, 15, 16, 18, 20, 21, 22, 24, 25, 26, 27, 28, 30, 32, 33, 34, 35, 36, 38, 39, 40, 42, 44, 45, 46, 48, 49, 50]\n"
     ]
    }
   ],
   "source": [
    "# Taking Set of those non-primes to return unique values\n",
    "print(list(set(not_prime)))"
   ]
  },
  {
   "cell_type": "code",
   "execution_count": 5,
   "id": "e6b7c33a",
   "metadata": {},
   "outputs": [
    {
     "name": "stdout",
     "output_type": "stream",
     "text": [
      "[2, 3, 5, 7, 11, 13, 17, 19, 23, 29, 31, 37, 41, 43, 47]\n"
     ]
    }
   ],
   "source": [
    "# Now removing those non-primes form the main list (nums)\n",
    "for i in list(set(not_prime)):\n",
    "    if i in nums:\n",
    "        nums.remove(i)\n",
    "\n",
    "# Print the final list of primes\n",
    "print(nums)"
   ]
  },
  {
   "cell_type": "code",
   "execution_count": null,
   "id": "4d38a5a6",
   "metadata": {},
   "outputs": [],
   "source": []
  }
 ],
 "metadata": {
  "kernelspec": {
   "display_name": "Python 3",
   "language": "python",
   "name": "python3"
  },
  "language_info": {
   "codemirror_mode": {
    "name": "ipython",
    "version": 3
   },
   "file_extension": ".py",
   "mimetype": "text/x-python",
   "name": "python",
   "nbconvert_exporter": "python",
   "pygments_lexer": "ipython3",
   "version": "3.8.8"
  }
 },
 "nbformat": 4,
 "nbformat_minor": 5
}
