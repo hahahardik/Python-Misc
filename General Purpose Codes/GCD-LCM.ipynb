{
 "cells": [
  {
   "cell_type": "markdown",
   "id": "f6924083",
   "metadata": {},
   "source": [
    "# GCD\n",
    "\n",
    "Calculated using Eulid's Theorem stated as, keep on subtracting smaller value (of a and b) from larger - and repeat this operation until values become equal - this last value will be gcd."
   ]
  },
  {
   "cell_type": "code",
   "execution_count": 1,
   "id": "77ca5998",
   "metadata": {},
   "outputs": [],
   "source": [
    "def gcd(a,b):\n",
    "    \n",
    "    while a != b:\n",
    "        if a < b:\n",
    "            b = abs(a-b)\n",
    "        else:\n",
    "            a = abs(a-b)\n",
    "    \n",
    "    #As both of the values are equal at the last step, returning any one will give the GCD\n",
    "    return a"
   ]
  },
  {
   "cell_type": "code",
   "execution_count": 2,
   "id": "6ca98a2f",
   "metadata": {},
   "outputs": [
    {
     "data": {
      "text/plain": [
       "1"
      ]
     },
     "execution_count": 2,
     "metadata": {},
     "output_type": "execute_result"
    }
   ],
   "source": [
    "gcd(2,3)"
   ]
  },
  {
   "cell_type": "code",
   "execution_count": 3,
   "id": "05952799",
   "metadata": {},
   "outputs": [
    {
     "data": {
      "text/plain": [
       "2"
      ]
     },
     "execution_count": 3,
     "metadata": {},
     "output_type": "execute_result"
    }
   ],
   "source": [
    "gcd(4,10)"
   ]
  },
  {
   "cell_type": "markdown",
   "id": "56da3e05",
   "metadata": {},
   "source": [
    "# LCM\n",
    "\n",
    "Note: This requires the GCD to be defined first"
   ]
  },
  {
   "cell_type": "code",
   "execution_count": 4,
   "id": "0c63c381",
   "metadata": {},
   "outputs": [],
   "source": [
    "def lcm(a,b):\n",
    "     return int((a*b)/gcd(a,b))"
   ]
  },
  {
   "cell_type": "code",
   "execution_count": 5,
   "id": "5967eb8d",
   "metadata": {},
   "outputs": [
    {
     "data": {
      "text/plain": [
       "6"
      ]
     },
     "execution_count": 5,
     "metadata": {},
     "output_type": "execute_result"
    }
   ],
   "source": [
    "lcm(2,3)"
   ]
  },
  {
   "cell_type": "code",
   "execution_count": 6,
   "id": "34f6c259",
   "metadata": {},
   "outputs": [
    {
     "data": {
      "text/plain": [
       "2"
      ]
     },
     "execution_count": 6,
     "metadata": {},
     "output_type": "execute_result"
    }
   ],
   "source": [
    "gcd(4,10)"
   ]
  },
  {
   "cell_type": "code",
   "execution_count": null,
   "id": "4f761702",
   "metadata": {},
   "outputs": [],
   "source": []
  }
 ],
 "metadata": {
  "kernelspec": {
   "display_name": "Python 3",
   "language": "python",
   "name": "python3"
  },
  "language_info": {
   "codemirror_mode": {
    "name": "ipython",
    "version": 3
   },
   "file_extension": ".py",
   "mimetype": "text/x-python",
   "name": "python",
   "nbconvert_exporter": "python",
   "pygments_lexer": "ipython3",
   "version": "3.8.8"
  }
 },
 "nbformat": 4,
 "nbformat_minor": 5
}
