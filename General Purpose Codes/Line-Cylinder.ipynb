{
 "cells": [
  {
   "cell_type": "markdown",
   "id": "0a7fae1e",
   "metadata": {},
   "source": [
    "## Line class calculates slope and distance between coordinates."
   ]
  },
  {
   "cell_type": "code",
   "execution_count": 1,
   "id": "373c5106",
   "metadata": {},
   "outputs": [],
   "source": [
    "class Line():\n",
    "    \n",
    "    def __init__(self, coor1, coor2):\n",
    "        \n",
    "        self.coor1 = coor1 # Tuple\n",
    "        self.coor2 = coor2 # Tuple\n",
    "        \n",
    "    def distance(self):\n",
    "        \n",
    "        distance = ((self.coor2[0] - self.coor1[0])**2 + (self.coor2[1] - self.coor1[1])**2)**0.5\n",
    "        return distance\n",
    "    \n",
    "    def slope(self):\n",
    "        \n",
    "        slope = (self.coor2[1] - self.coor1[1]) / (self.coor2[0] - self.coor1[0])\n",
    "        return slope"
   ]
  },
  {
   "cell_type": "code",
   "execution_count": 2,
   "id": "5278f823",
   "metadata": {},
   "outputs": [],
   "source": [
    "# Example\n",
    "coordinate1 = (3,2)\n",
    "coordinate2 = (8,10)\n",
    "\n",
    "li = Line(coordinate1,coordinate2)"
   ]
  },
  {
   "cell_type": "code",
   "execution_count": 3,
   "id": "d85bac0e",
   "metadata": {},
   "outputs": [
    {
     "data": {
      "text/plain": [
       "9.433981132056603"
      ]
     },
     "execution_count": 3,
     "metadata": {},
     "output_type": "execute_result"
    }
   ],
   "source": [
    "li.distance()"
   ]
  },
  {
   "cell_type": "code",
   "execution_count": 4,
   "id": "cc1c5baa",
   "metadata": {},
   "outputs": [
    {
     "data": {
      "text/plain": [
       "1.6"
      ]
     },
     "execution_count": 4,
     "metadata": {},
     "output_type": "execute_result"
    }
   ],
   "source": [
    "li.slope()"
   ]
  },
  {
   "cell_type": "markdown",
   "id": "d35ec941",
   "metadata": {},
   "source": [
    "## Cylinder class calculates Volume and Surface Area with the given height and radius."
   ]
  },
  {
   "cell_type": "code",
   "execution_count": 5,
   "id": "9df2a687",
   "metadata": {},
   "outputs": [],
   "source": [
    "class Cylinder():\n",
    "    \n",
    "    pi = 3.14169\n",
    "    \n",
    "    def __init__(self,height=1,radius=1):\n",
    "        \n",
    "        self.height = height\n",
    "        self.radius = radius\n",
    "        \n",
    "    def volume(self):\n",
    "        \n",
    "        vol = Cylinder.pi*(self.radius**2)*self.height\n",
    "        return vol\n",
    "    \n",
    "    def surface_area(self):\n",
    "        \n",
    "        s_area = 2*Cylinder.pi*self.radius*self.height + 2*Cylinder.pi*(self.radius**2)\n",
    "        return s_area"
   ]
  },
  {
   "cell_type": "code",
   "execution_count": 6,
   "id": "e47b8907",
   "metadata": {},
   "outputs": [],
   "source": [
    "c = Cylinder(2,3)"
   ]
  },
  {
   "cell_type": "code",
   "execution_count": 7,
   "id": "24a19355",
   "metadata": {},
   "outputs": [
    {
     "data": {
      "text/plain": [
       "94.2507"
      ]
     },
     "execution_count": 7,
     "metadata": {},
     "output_type": "execute_result"
    }
   ],
   "source": [
    "c.surface_area()"
   ]
  },
  {
   "cell_type": "code",
   "execution_count": 8,
   "id": "328db108",
   "metadata": {},
   "outputs": [
    {
     "data": {
      "text/plain": [
       "56.55042"
      ]
     },
     "execution_count": 8,
     "metadata": {},
     "output_type": "execute_result"
    }
   ],
   "source": [
    "c.volume()"
   ]
  },
  {
   "cell_type": "code",
   "execution_count": null,
   "id": "83697549",
   "metadata": {},
   "outputs": [],
   "source": []
  }
 ],
 "metadata": {
  "kernelspec": {
   "display_name": "Python 3",
   "language": "python",
   "name": "python3"
  },
  "language_info": {
   "codemirror_mode": {
    "name": "ipython",
    "version": 3
   },
   "file_extension": ".py",
   "mimetype": "text/x-python",
   "name": "python",
   "nbconvert_exporter": "python",
   "pygments_lexer": "ipython3",
   "version": "3.8.8"
  }
 },
 "nbformat": 4,
 "nbformat_minor": 5
}
