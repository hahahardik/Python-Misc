{
 "cells": [
  {
   "cell_type": "markdown",
   "id": "407d6245",
   "metadata": {},
   "source": [
    "# Linear Congruential Generator\n",
    "\n",
    "This is a method generate random numbers which is more widespread (it is implemented in most of programming languages and libraries) and still simple enough: <br> \n",
    "1. Start with some initial number and generate each new member $X_{next}$ of a sequence by the current $X_{cur}$ using the following rule:\n",
    "\n",
    "$X_{next} = (A * X_{cur} + C) \\mod M $\n",
    "\n",
    "So we need three constants to define such a sequence (and an initial number). Not all combinations of constants are good, however, here are many good variants which allow to produce sequences with period of *M*, i.e. significantly long.<br>\n",
    "\n",
    "Test-case consists of five values: *A*, *C*, *M*, *X*, *N* where first three are the same as in formula, while *X* is the initial member of a sequence and *N* is the number of a member which we want to calculate."
   ]
  },
  {
   "cell_type": "code",
   "execution_count": 1,
   "id": "821d2bd8",
   "metadata": {},
   "outputs": [],
   "source": [
    "def lcg(a,c,m,x,n):\n",
    "    \n",
    "    '''Returns the n-th term of the sequence'''\n",
    "    \n",
    "    i = 0\n",
    "    while i < n:\n",
    "        x = ((a*x) + c) % m\n",
    "        i += 1\n",
    "\n",
    "    return x"
   ]
  },
  {
   "cell_type": "code",
   "execution_count": 2,
   "id": "a616a77a",
   "metadata": {},
   "outputs": [
    {
     "data": {
      "text/plain": [
       "11"
      ]
     },
     "execution_count": 2,
     "metadata": {},
     "output_type": "execute_result"
    }
   ],
   "source": [
    "lcg(2,3,15,8,10)"
   ]
  },
  {
   "cell_type": "code",
   "execution_count": 3,
   "id": "bb350468",
   "metadata": {},
   "outputs": [
    {
     "data": {
      "text/plain": [
       "1"
      ]
     },
     "execution_count": 3,
     "metadata": {},
     "output_type": "execute_result"
    }
   ],
   "source": [
    "lcg(3, 7, 12, 1, 2)"
   ]
  },
  {
   "cell_type": "code",
   "execution_count": null,
   "id": "d383f9d9",
   "metadata": {},
   "outputs": [],
   "source": []
  }
 ],
 "metadata": {
  "kernelspec": {
   "display_name": "Python 3",
   "language": "python",
   "name": "python3"
  },
  "language_info": {
   "codemirror_mode": {
    "name": "ipython",
    "version": 3
   },
   "file_extension": ".py",
   "mimetype": "text/x-python",
   "name": "python",
   "nbconvert_exporter": "python",
   "pygments_lexer": "ipython3",
   "version": "3.8.8"
  }
 },
 "nbformat": 4,
 "nbformat_minor": 5
}
